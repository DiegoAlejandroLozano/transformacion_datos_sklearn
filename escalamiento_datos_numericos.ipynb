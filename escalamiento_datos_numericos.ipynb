{
 "cells": [
  {
   "cell_type": "code",
   "execution_count": 1,
   "metadata": {},
   "outputs": [],
   "source": [
    "import pandas as pd\n",
    "import numpy as np\n",
    "from sklearn.preprocessing import MinMaxScaler\n",
    "from sklearn.preprocessing import Normalizer\n",
    "from sklearn.preprocessing import StandardScaler\n",
    "from sklearn.preprocessing import RobustScaler"
   ]
  },
  {
   "cell_type": "markdown",
   "metadata": {},
   "source": [
    "### Escalamiento en función de máximos y mínimos\n",
    "\n",
    "En esta transformación se garantiza que todas las variables (columnas) tengan las misma escala $[0,1]$ ó $[min,max]$"
   ]
  },
  {
   "cell_type": "code",
   "execution_count": 2,
   "metadata": {},
   "outputs": [
    {
     "data": {
      "text/html": [
       "<div>\n",
       "<style scoped>\n",
       "    .dataframe tbody tr th:only-of-type {\n",
       "        vertical-align: middle;\n",
       "    }\n",
       "\n",
       "    .dataframe tbody tr th {\n",
       "        vertical-align: top;\n",
       "    }\n",
       "\n",
       "    .dataframe thead th {\n",
       "        text-align: right;\n",
       "    }\n",
       "</style>\n",
       "<table border=\"1\" class=\"dataframe\">\n",
       "  <thead>\n",
       "    <tr style=\"text-align: right;\">\n",
       "      <th></th>\n",
       "      <th>a</th>\n",
       "    </tr>\n",
       "  </thead>\n",
       "  <tbody>\n",
       "    <tr>\n",
       "      <th>0</th>\n",
       "      <td>1</td>\n",
       "    </tr>\n",
       "    <tr>\n",
       "      <th>1</th>\n",
       "      <td>2</td>\n",
       "    </tr>\n",
       "    <tr>\n",
       "      <th>2</th>\n",
       "      <td>3</td>\n",
       "    </tr>\n",
       "    <tr>\n",
       "      <th>3</th>\n",
       "      <td>4</td>\n",
       "    </tr>\n",
       "    <tr>\n",
       "      <th>4</th>\n",
       "      <td>5</td>\n",
       "    </tr>\n",
       "    <tr>\n",
       "      <th>5</th>\n",
       "      <td>6</td>\n",
       "    </tr>\n",
       "    <tr>\n",
       "      <th>6</th>\n",
       "      <td>7</td>\n",
       "    </tr>\n",
       "    <tr>\n",
       "      <th>7</th>\n",
       "      <td>8</td>\n",
       "    </tr>\n",
       "    <tr>\n",
       "      <th>8</th>\n",
       "      <td>9</td>\n",
       "    </tr>\n",
       "    <tr>\n",
       "      <th>9</th>\n",
       "      <td>10</td>\n",
       "    </tr>\n",
       "  </tbody>\n",
       "</table>\n",
       "</div>"
      ],
      "text/plain": [
       "    a\n",
       "0   1\n",
       "1   2\n",
       "2   3\n",
       "3   4\n",
       "4   5\n",
       "5   6\n",
       "6   7\n",
       "7   8\n",
       "8   9\n",
       "9  10"
      ]
     },
     "execution_count": 2,
     "metadata": {},
     "output_type": "execute_result"
    }
   ],
   "source": [
    "datos = {'a':[1,2,3,4,5,6,7,8,9,10]}\n",
    "df1 = pd.DataFrame(datos)\n",
    "df1"
   ]
  },
  {
   "cell_type": "code",
   "execution_count": 3,
   "metadata": {},
   "outputs": [
    {
     "data": {
      "text/plain": [
       "array([[0.        ],\n",
       "       [0.11111111],\n",
       "       [0.22222222],\n",
       "       [0.33333333],\n",
       "       [0.44444444],\n",
       "       [0.55555556],\n",
       "       [0.66666667],\n",
       "       [0.77777778],\n",
       "       [0.88888889],\n",
       "       [1.        ]])"
      ]
     },
     "execution_count": 3,
     "metadata": {},
     "output_type": "execute_result"
    }
   ],
   "source": [
    "datos_min_max = MinMaxScaler()\n",
    "datos_min_max.fit_transform(df1[['a']])"
   ]
  },
  {
   "cell_type": "code",
   "execution_count": 4,
   "metadata": {},
   "outputs": [
    {
     "data": {
      "text/plain": [
       "array([[4.99999996]])"
      ]
     },
     "execution_count": 4,
     "metadata": {},
     "output_type": "execute_result"
    }
   ],
   "source": [
    "#Realizando la transformada inversa del dato\n",
    "datos_min_max.inverse_transform([[0.44444444]])"
   ]
  },
  {
   "cell_type": "code",
   "execution_count": 5,
   "metadata": {},
   "outputs": [
    {
     "data": {
      "text/html": [
       "<div>\n",
       "<style scoped>\n",
       "    .dataframe tbody tr th:only-of-type {\n",
       "        vertical-align: middle;\n",
       "    }\n",
       "\n",
       "    .dataframe tbody tr th {\n",
       "        vertical-align: top;\n",
       "    }\n",
       "\n",
       "    .dataframe thead th {\n",
       "        text-align: right;\n",
       "    }\n",
       "</style>\n",
       "<table border=\"1\" class=\"dataframe\">\n",
       "  <thead>\n",
       "    <tr style=\"text-align: right;\">\n",
       "      <th></th>\n",
       "      <th>a</th>\n",
       "      <th>b</th>\n",
       "    </tr>\n",
       "  </thead>\n",
       "  <tbody>\n",
       "    <tr>\n",
       "      <th>0</th>\n",
       "      <td>1</td>\n",
       "      <td>10</td>\n",
       "    </tr>\n",
       "    <tr>\n",
       "      <th>1</th>\n",
       "      <td>2</td>\n",
       "      <td>11</td>\n",
       "    </tr>\n",
       "    <tr>\n",
       "      <th>2</th>\n",
       "      <td>3</td>\n",
       "      <td>12</td>\n",
       "    </tr>\n",
       "    <tr>\n",
       "      <th>3</th>\n",
       "      <td>4</td>\n",
       "      <td>13</td>\n",
       "    </tr>\n",
       "    <tr>\n",
       "      <th>4</th>\n",
       "      <td>5</td>\n",
       "      <td>14</td>\n",
       "    </tr>\n",
       "    <tr>\n",
       "      <th>5</th>\n",
       "      <td>6</td>\n",
       "      <td>15</td>\n",
       "    </tr>\n",
       "    <tr>\n",
       "      <th>6</th>\n",
       "      <td>7</td>\n",
       "      <td>16</td>\n",
       "    </tr>\n",
       "    <tr>\n",
       "      <th>7</th>\n",
       "      <td>8</td>\n",
       "      <td>17</td>\n",
       "    </tr>\n",
       "    <tr>\n",
       "      <th>8</th>\n",
       "      <td>9</td>\n",
       "      <td>18</td>\n",
       "    </tr>\n",
       "    <tr>\n",
       "      <th>9</th>\n",
       "      <td>10</td>\n",
       "      <td>19</td>\n",
       "    </tr>\n",
       "  </tbody>\n",
       "</table>\n",
       "</div>"
      ],
      "text/plain": [
       "    a   b\n",
       "0   1  10\n",
       "1   2  11\n",
       "2   3  12\n",
       "3   4  13\n",
       "4   5  14\n",
       "5   6  15\n",
       "6   7  16\n",
       "7   8  17\n",
       "8   9  18\n",
       "9  10  19"
      ]
     },
     "execution_count": 5,
     "metadata": {},
     "output_type": "execute_result"
    }
   ],
   "source": [
    "df1['b'] = np.arange(10,20)\n",
    "df1\n"
   ]
  },
  {
   "cell_type": "code",
   "execution_count": 6,
   "metadata": {},
   "outputs": [
    {
     "data": {
      "text/plain": [
       "array([[0.        , 0.        ],\n",
       "       [0.11111111, 0.11111111],\n",
       "       [0.22222222, 0.22222222],\n",
       "       [0.33333333, 0.33333333],\n",
       "       [0.44444444, 0.44444444],\n",
       "       [0.55555556, 0.55555556],\n",
       "       [0.66666667, 0.66666667],\n",
       "       [0.77777778, 0.77777778],\n",
       "       [0.88888889, 0.88888889],\n",
       "       [1.        , 1.        ]])"
      ]
     },
     "execution_count": 6,
     "metadata": {},
     "output_type": "execute_result"
    }
   ],
   "source": [
    "datos_min_max.fit_transform(df1)"
   ]
  },
  {
   "cell_type": "code",
   "execution_count": 7,
   "metadata": {},
   "outputs": [
    {
     "data": {
      "text/plain": [
       "array([[ 4.99999996, 13.99999996]])"
      ]
     },
     "execution_count": 7,
     "metadata": {},
     "output_type": "execute_result"
    }
   ],
   "source": [
    "#Realizando la tranformada inversa de los datos\n",
    "datos_min_max.inverse_transform([[0.44444444,0.44444444]])"
   ]
  },
  {
   "cell_type": "markdown",
   "metadata": {},
   "source": [
    "### Normalización de los datos\n",
    "\n",
    "Se utiliza la norma (magnitud) de cada columna (vector) para normalizar los datos $$norma (columna_x) = \\sqrt{dato_0^2 + dato_1^2 + dato_2^2+...+dato_n^2}$$"
   ]
  },
  {
   "cell_type": "code",
   "execution_count": 8,
   "metadata": {},
   "outputs": [
    {
     "name": "stdout",
     "output_type": "stream",
     "text": [
      "[[0.05096472 0.10192944 0.15289416 0.20385888 0.2548236  0.30578831\n",
      "  0.35675303 0.40771775 0.45868247 0.50964719]\n",
      " [0.21393127 0.2353244  0.25671753 0.27811066 0.29950378 0.32089691\n",
      "  0.34229004 0.36368317 0.38507629 0.40646942]]\n"
     ]
    }
   ],
   "source": [
    "normalizador = Normalizer()\n",
    "'''Normalizer trabaja con los renglones y no con las columnas, por esta razón se\n",
    "aplica la transpuesta de los datos'''\n",
    "valores_normalizados = normalizador.fit_transform(df1.values.T)\n",
    "print(valores_normalizados)"
   ]
  },
  {
   "cell_type": "code",
   "execution_count": 9,
   "metadata": {},
   "outputs": [
    {
     "name": "stdout",
     "output_type": "stream",
     "text": [
      "Cálculo manual: 0.050964719143762556\n",
      "Cálculo con la transformación: 0.050964719143762556\n"
     ]
    }
   ],
   "source": [
    "'''Realizando el cálculo de forma manual:\n",
    "1) Se cálcula la norma de la primera columna\n",
    "2) Se divide el primer dato de la primera columna del dataframe df1 '''\n",
    "norma = np.linalg.norm(df1['a'].values)\n",
    "print('Cálculo manual: {0}'.format(df1.iloc[0,0] / norma))\n",
    "print('Cálculo con la transformación: {0}'.format(valores_normalizados[0,0]))\n"
   ]
  },
  {
   "cell_type": "markdown",
   "metadata": {},
   "source": [
    "### Estandarización de los datos ($desviación estandar = 1$ y $media = 0$)\n",
    "\n",
    "Estandarizar consiste en cambiar la distribución de los datos para que tengan una media de cero y una desviación estandar de 1 $$z = \\frac{dato_x-media}{std}$$"
   ]
  },
  {
   "cell_type": "code",
   "execution_count": 10,
   "metadata": {},
   "outputs": [
    {
     "data": {
      "text/plain": [
       "array([[-1.5666989 , -1.5666989 ],\n",
       "       [-1.21854359, -1.21854359],\n",
       "       [-0.87038828, -0.87038828],\n",
       "       [-0.52223297, -0.52223297],\n",
       "       [-0.17407766, -0.17407766],\n",
       "       [ 0.17407766,  0.17407766],\n",
       "       [ 0.52223297,  0.52223297],\n",
       "       [ 0.87038828,  0.87038828],\n",
       "       [ 1.21854359,  1.21854359],\n",
       "       [ 1.5666989 ,  1.5666989 ]])"
      ]
     },
     "execution_count": 10,
     "metadata": {},
     "output_type": "execute_result"
    }
   ],
   "source": [
    "estanrizacion_1 = StandardScaler()\n",
    "estanrizacion_1.fit_transform(df1)"
   ]
  },
  {
   "cell_type": "code",
   "execution_count": 11,
   "metadata": {},
   "outputs": [
    {
     "data": {
      "text/plain": [
       "array([[ 4.99999999, 13.99999999]])"
      ]
     },
     "execution_count": 11,
     "metadata": {},
     "output_type": "execute_result"
    }
   ],
   "source": [
    "#Transformación inversa\n",
    "estanrizacion_1.inverse_transform([[-0.17407766, -0.17407766]])"
   ]
  },
  {
   "cell_type": "markdown",
   "metadata": {},
   "source": [
    "### Estandarización robusta \n",
    "\n",
    "Esta estandarización en lugar de utilizar la media, utiliza el rango intercuartílico $$z = \\frac{dato_x-IQR}{std}$$\n",
    "* Esta estandarización no es tan afectada por los datos atípicos\n",
    "* Es una de las más utilizadas"
   ]
  },
  {
   "cell_type": "code",
   "execution_count": 12,
   "metadata": {},
   "outputs": [
    {
     "data": {
      "text/plain": [
       "array([[-1.        , -1.        ],\n",
       "       [-0.77777778, -0.77777778],\n",
       "       [-0.55555556, -0.55555556],\n",
       "       [-0.33333333, -0.33333333],\n",
       "       [-0.11111111, -0.11111111],\n",
       "       [ 0.11111111,  0.11111111],\n",
       "       [ 0.33333333,  0.33333333],\n",
       "       [ 0.55555556,  0.55555556],\n",
       "       [ 0.77777778,  0.77777778],\n",
       "       [ 1.        ,  1.        ]])"
      ]
     },
     "execution_count": 12,
     "metadata": {},
     "output_type": "execute_result"
    }
   ],
   "source": [
    "estanrizacion_2 = RobustScaler()\n",
    "estanrizacion_2.fit_transform(df1)"
   ]
  },
  {
   "cell_type": "code",
   "execution_count": 13,
   "metadata": {},
   "outputs": [
    {
     "data": {
      "text/plain": [
       "array([[ 1.99999999, 10.99999999]])"
      ]
     },
     "execution_count": 13,
     "metadata": {},
     "output_type": "execute_result"
    }
   ],
   "source": [
    "#Transformación inversa\n",
    "estanrizacion_2.inverse_transform([[-0.77777778, -0.77777778]])"
   ]
  },
  {
   "cell_type": "markdown",
   "metadata": {},
   "source": [
    "# Jugando con las gráficas"
   ]
  },
  {
   "cell_type": "code",
   "execution_count": 14,
   "metadata": {},
   "outputs": [],
   "source": [
    "from matplotlib import pyplot as plt"
   ]
  },
  {
   "cell_type": "code",
   "execution_count": 15,
   "metadata": {},
   "outputs": [],
   "source": [
    "#Generando números aleatorios\n",
    "x = np.random.rand(200)*100\n",
    "y = np.random.rand(200)*100"
   ]
  },
  {
   "cell_type": "code",
   "execution_count": 16,
   "metadata": {},
   "outputs": [],
   "source": [
    "#Escalamiento máximos-mínimos\n",
    "max_min_x = MinMaxScaler()\n",
    "max_min_y = MinMaxScaler()\n",
    "\n",
    "#Normalización de los datos\n",
    "norma_x = Normalizer()\n",
    "norma_y = Normalizer()\n",
    "\n",
    "#Estandarización normal\n",
    "estand_x = StandardScaler()\n",
    "estand_y = StandardScaler()\n",
    "\n",
    "#Estandarización robusta\n",
    "estand_robus_x = RobustScaler()\n",
    "estand_robus_y = RobustScaler()"
   ]
  },
  {
   "cell_type": "code",
   "execution_count": 17,
   "metadata": {},
   "outputs": [
    {
     "data": {
      "image/png": "[encoded data removed]",
      "text/plain": [
       "<Figure size 1872x360 with 5 Axes>"
      ]
     },
     "metadata": {
      "needs_background": "light"
     },
     "output_type": "display_data"
    }
   ],
   "source": [
    "#Verificando gráficamente el efecto de las diferentes transformaciones de los datos\n",
    "fig, axs = plt.subplots(1,5, figsize=(26,5))\n",
    "axs[0].scatter(x,y)\n",
    "axs[0].set_title('Datos sin tratar', fontsize=15)\n",
    "axs[0].set_xlabel('x', fontsize=15)\n",
    "axs[0].set_ylabel('y', fontsize=15)\n",
    "axs[1].scatter(max_min_x.fit_transform(x.reshape(-1,1)), max_min_y.fit_transform(y.reshape(-1,1)))\n",
    "axs[1].set_title('Máximos-Mínimos', fontsize=15)\n",
    "axs[2].scatter(norma_x.fit_transform(x.reshape(-1,1).T), norma_y.fit_transform(y.reshape(-1,1).T))\n",
    "axs[2].set_title('Normalización', fontsize=15)\n",
    "axs[3].scatter(estand_x.fit_transform(x.reshape(-1,1)), estand_y.fit_transform(y.reshape(-1,1)))\n",
    "axs[3].set_title('Estandarización', fontsize=15)\n",
    "axs[4].scatter(estand_robus_x.fit_transform(x.reshape(-1,1)), estand_robus_y.fit_transform(y.reshape(-1,1)))\n",
    "axs[4].set_title('Estandarización robusta', fontsize=15)\n",
    "plt.show()\n"
   ]
  },
  {
   "cell_type": "markdown",
   "metadata": {},
   "source": [
    "Se ha **modificado** la escala de los datos, pero **sin afectar** la información que contienen."
   ]
  }
 ],
 "metadata": {
  "interpreter": {
   "hash": "b132d22c77e20d3ba610ce7c3311ae7da5239266f0204993cf7627d1e624ef54"
  },
  "kernelspec": {
   "display_name": "Python 3.9.13 64-bit (windows store)",
   "language": "python",
   "name": "python3"
  },
  "language_info": {
   "codemirror_mode": {
    "name": "ipython",
    "version": 3
   },
   "file_extension": ".py",
   "mimetype": "text/x-python",
   "name": "python",
   "nbconvert_exporter": "python",
   "pygments_lexer": "ipython3",
   "version": "3.9.13"
  },
  "orig_nbformat": 4
 },
 "nbformat": 4,
 "nbformat_minor": 2
}
